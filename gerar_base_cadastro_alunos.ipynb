{
  "nbformat": 4,
  "nbformat_minor": 0,
  "metadata": {
    "colab": {
      "provenance": [],
      "authorship_tag": "ABX9TyPYHDIkXE30t5IDHiMWAfeB",
      "include_colab_link": true
    },
    "kernelspec": {
      "name": "python3",
      "display_name": "Python 3"
    },
    "language_info": {
      "name": "python"
    }
  },
  "cells": [
    {
      "cell_type": "markdown",
      "metadata": {
        "id": "view-in-github",
        "colab_type": "text"
      },
      "source": [
        "<a href=\"https://colab.research.google.com/github/cfgramoso/1659-postgresql-primeiros-passos/blob/aula-1/gerar_base_cadastro_alunos.ipynb\" target=\"_parent\"><img src=\"https://colab.research.google.com/assets/colab-badge.svg\" alt=\"Open In Colab\"/></a>"
      ]
    },
    {
      "cell_type": "code",
      "execution_count": 3,
      "metadata": {
        "colab": {
          "base_uri": "https://localhost:8080/"
        },
        "id": "RtOtVKKrq8t6",
        "outputId": "7249d5d9-05d2-46c8-869b-4d6c53b55f37"
      },
      "outputs": [
        {
          "output_type": "stream",
          "name": "stdout",
          "text": [
            "Collecting faker\n",
            "  Downloading Faker-23.3.0-py3-none-any.whl (1.8 MB)\n",
            "\u001b[2K     \u001b[90m━━━━━━━━━━━━━━━━━━━━━━━━━━━━━━━━━━━━━━━━\u001b[0m \u001b[32m1.8/1.8 MB\u001b[0m \u001b[31m8.0 MB/s\u001b[0m eta \u001b[36m0:00:00\u001b[0m\n",
            "\u001b[?25hRequirement already satisfied: python-dateutil>=2.4 in /usr/local/lib/python3.10/dist-packages (from faker) (2.8.2)\n",
            "Requirement already satisfied: six>=1.5 in /usr/local/lib/python3.10/dist-packages (from python-dateutil>=2.4->faker) (1.16.0)\n",
            "Installing collected packages: faker\n",
            "Successfully installed faker-23.3.0\n",
            "Base de dados salva como 'cadastro_alunos.csv'.\n"
          ]
        }
      ],
      "source": [
        "import pandas as pd\n",
        "!pip install faker\n",
        "from faker import Faker\n",
        "import random\n",
        "\n",
        "fake = Faker('pt_BR')\n",
        "\n",
        "# Função para gerar CPF válido\n",
        "def generate_cpf():\n",
        "    cpf = [random.randint(0, 9) for _ in range(9)]\n",
        "    for i in range(9, 11):\n",
        "        val = sum((cpf[ind] * (i - ind) for ind in range(i)))\n",
        "        cpf.append((11 - (val % 11)) % 11)\n",
        "    return ''.join(map(str, cpf))\n",
        "\n",
        "# Gerar dados para 20 alunos\n",
        "dados_alunos = {\n",
        "    'Nome do aluno': [fake.name() for _ in range(20)],\n",
        "    'Data de nascimento do aluno': [fake.date_of_birth(minimum_age=1, maximum_age=6).strftime('%Y-%m-%d') for _ in range(20)],\n",
        "    'Nome da mãe': [fake.name_female() for _ in range(20)],\n",
        "    'CPF da mãe': [generate_cpf() for _ in range(20)],\n",
        "    'Telefone da mãe': [fake.phone_number() for _ in range(20)],\n",
        "    'Nome do pai': [fake.name_male() for _ in range(20)],\n",
        "    'CPF do pai': [generate_cpf() for _ in range(20)],\n",
        "    'Telefone do pai': [fake.phone_number() for _ in range(20)],\n",
        "    'Nome do responsável': [fake.name() if random.random() > 0.5 else None for _ in range(20)],\n",
        "    'Endereço': [fake.street_address() for _ in range(20)],\n",
        "    'Horário na creche': [f\"{random.randint(7, 8)}:00 - {random.randint(16, 17)}:00\" for _ in range(20)],\n",
        "    'Valor da mensalidade': [random.randint(600, 1000) for _ in range(20)],\n",
        "    'Data de início': [fake.date_between(start_date='-6m', end_date='today').strftime('%Y-%m-%d') for _ in range(20)]\n",
        "}\n",
        "\n",
        "# Criando o DataFrame\n",
        "df_alunos = pd.DataFrame(dados_alunos)\n",
        "\n",
        "# Salvar como CSV\n",
        "df_alunos.to_csv('cadastro_alunos.csv', index=False)\n",
        "\n",
        "print(\"Base de dados salva como 'cadastro_alunos.csv'.\")"
      ]
    }
  ]
}